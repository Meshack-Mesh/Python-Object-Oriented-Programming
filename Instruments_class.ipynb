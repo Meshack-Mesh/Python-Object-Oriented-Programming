{
 "cells": [
  {
   "cell_type": "code",
   "execution_count": 1,
   "id": "c735e92f-d90b-4389-90ce-801d6cb9c45d",
   "metadata": {},
   "outputs": [
    {
     "name": "stdout",
     "output_type": "stream",
     "text": [
      "Acoustic Guitar is made of Wood and comes from Spain.\n",
      "Acoustic Guitar strums melodically with 6 strings! 🎶\n",
      "Djembe is made of Goatskin and Wood and comes from West Africa.\n",
      "Djembe creates a rhythmic beat as a hand drum! 🥁\n"
     ]
    }
   ],
   "source": [
    "# Base class\n",
    "class Instrument:\n",
    "    def __init__(self, name, material, origin):\n",
    "        self._name = name  # Encapsulated\n",
    "        self._material = material\n",
    "        self._origin = origin\n",
    "\n",
    "    def play_sound(self):\n",
    "        print(f\"The {self._name} makes a unique sound.\")\n",
    "\n",
    "    def display_info(self):\n",
    "        print(f\"{self._name} is made of {self._material} and comes from {self._origin}.\")\n",
    "\n",
    "# Derived class\n",
    "class Guitar(Instrument):\n",
    "    def __init__(self, name, material, origin, number_of_strings):\n",
    "        super().__init__(name, material, origin)\n",
    "        self.number_of_strings = number_of_strings\n",
    "\n",
    "    def play_sound(self):\n",
    "        print(f\"{self._name} strums melodically with {self.number_of_strings} strings! 🎶\")\n",
    "\n",
    "# Another derived class\n",
    "class Drum(Instrument):\n",
    "    def __init__(self, name, material, origin, drum_type):\n",
    "        super().__init__(name, material, origin)\n",
    "        self.drum_type = drum_type\n",
    "\n",
    "    def play_sound(self):\n",
    "        print(f\"{self._name} creates a rhythmic beat as a {self.drum_type} drum! 🥁\")\n",
    "\n",
    "# Example usage\n",
    "inst1 = Guitar(\"Acoustic Guitar\", \"Wood\", \"Spain\", 6)\n",
    "inst2 = Drum(\"Djembe\", \"Goatskin and Wood\", \"West Africa\", \"hand\")\n",
    "\n",
    "inst1.display_info()\n",
    "inst1.play_sound()\n",
    "\n",
    "inst2.display_info()\n",
    "inst2.play_sound()\n"
   ]
  },
  {
   "cell_type": "code",
   "execution_count": null,
   "id": "ca7244c6-c7e7-4a65-a138-800d30d93071",
   "metadata": {},
   "outputs": [],
   "source": []
  }
 ],
 "metadata": {
  "kernelspec": {
   "display_name": "Python 3 (ipykernel)",
   "language": "python",
   "name": "python3"
  },
  "language_info": {
   "codemirror_mode": {
    "name": "ipython",
    "version": 3
   },
   "file_extension": ".py",
   "mimetype": "text/x-python",
   "name": "python",
   "nbconvert_exporter": "python",
   "pygments_lexer": "ipython3",
   "version": "3.12.4"
  }
 },
 "nbformat": 4,
 "nbformat_minor": 5
}
