{
 "cells": [
  {
   "cell_type": "code",
   "execution_count": 1,
   "id": "72c13114-c43e-4c28-805b-94f80acb597e",
   "metadata": {},
   "outputs": [
    {
     "name": "stdout",
     "output_type": "stream",
     "text": [
      "Swimming through the water 🐟\n",
      "Flying in the sky 🕊️\n",
      "Slithering on the ground 🐍\n"
     ]
    }
   ],
   "source": [
    "class Animal:\n",
    "    def move(self):\n",
    "        print(\"The animal moves in some way.\")\n",
    "\n",
    "class Fish(Animal):\n",
    "    def move(self):\n",
    "        print(\"Swimming through the water 🐟\")\n",
    "\n",
    "class Bird(Animal):\n",
    "    def move(self):\n",
    "        print(\"Flying in the sky 🕊️\")\n",
    "\n",
    "class Snake(Animal):\n",
    "    def move(self):\n",
    "        print(\"Slithering on the ground 🐍\")\n",
    "\n",
    "# List of animals demonstrating polymorphism\n",
    "animals = [Fish(), Bird(), Snake()]\n",
    "\n",
    "for animal in animals:\n",
    "    animal.move()\n",
    "    \n"
   ]
  },
  {
   "cell_type": "code",
   "execution_count": null,
   "id": "f37cc757-cfd5-498e-a6a3-d3ee350f8c60",
   "metadata": {},
   "outputs": [],
   "source": []
  }
 ],
 "metadata": {
  "kernelspec": {
   "display_name": "Python 3 (ipykernel)",
   "language": "python",
   "name": "python3"
  },
  "language_info": {
   "codemirror_mode": {
    "name": "ipython",
    "version": 3
   },
   "file_extension": ".py",
   "mimetype": "text/x-python",
   "name": "python",
   "nbconvert_exporter": "python",
   "pygments_lexer": "ipython3",
   "version": "3.12.4"
  }
 },
 "nbformat": 4,
 "nbformat_minor": 5
}
